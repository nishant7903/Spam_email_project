{
  "nbformat": 4,
  "nbformat_minor": 0,
  "metadata": {
    "colab": {
      "provenance": []
    },
    "kernelspec": {
      "name": "python3",
      "display_name": "Python 3"
    },
    "language_info": {
      "name": "python"
    }
  },
  "cells": [
    {
      "cell_type": "code",
      "source": [
        "import pandas as pd\n",
        "import matplotlib.pyplot as plt\n",
        "import seaborn as sns\n",
        "\n",
        "from sklearn.model_selection import train_test_split\n",
        "from sklearn.feature_extraction.text import TfidfVectorizer\n",
        "from sklearn.naive_bayes import MultinomialNB\n",
        "from sklearn.metrics import accuracy_score, confusion_matrix, classification_report\n",
        "\n",
        "\n",
        "# load dataset\n",
        "url = \"https://raw.githubusercontent.com/justmarkham/DAT8/master/data/sms.tsv\"\n",
        "df = pd.read_csv(url, sep=\"\\t\", names=[\"label\", \"text\"])\n",
        "\n",
        "print(\"Data loaded:\", df.shape)\n",
        "print(df.sample(3))   # quick look at a few rows\n",
        "\n",
        "\n",
        "# separate features and target\n",
        "messages = df[\"text\"]\n",
        "labels = df[\"label\"]\n",
        "\n",
        "# TF-IDF vectorizer (remove english stopwords)\n",
        "tfidf = TfidfVectorizer(stop_words=\"english\")\n",
        "X = tfidf.fit_transform(messages)\n",
        "\n",
        "# train/test\n",
        "X_train, X_test, y_train, y_test = train_test_split(\n",
        "    X, labels, test_size=0.2, random_state=7\n",
        ")\n",
        "\n",
        "# model training\n",
        "nb_model = MultinomialNB()\n",
        "nb_model.fit(X_train, y_train)\n",
        "\n",
        "# predictions\n",
        "y_pred = nb_model.predict(X_test)\n",
        "\n",
        "print(\"\\n--- Evaluation ---\")\n",
        "print(\"Accuracy:\", round(accuracy_score(y_test, y_pred), 3))\n",
        "print(\"Confusion Matrix:\\n\", confusion_matrix(y_test, y_pred))\n",
        "print(\"Classification Report:\\n\", classification_report(y_test, y_pred))\n",
        "\n",
        "\n",
        "# confusion matrix heatmap\n",
        "plt.figure(figsize=(6, 4))\n",
        "cm = confusion_matrix(y_test, y_pred)\n",
        "sns.heatmap(cm, annot=True, fmt=\"d\", cmap=\"Blues\", xticklabels=nb_model.classes_, yticklabels=nb_model.classes_)\n",
        "plt.title(\"Confusion Matrix\")\n",
        "plt.xlabel(\"Predicted\")\n",
        "plt.ylabel(\"Actual\")\n",
        "plt.show()\n",
        "\n",
        "\n",
        "def classify_message(text):\n",
        "    vec = tfidf.transform([text])\n",
        "    return nb_model.predict(vec)[0]\n",
        "\n",
        "\n",
        "# sample messages\n",
        "print(\"\\n--- Sample Predictions ---\")\n",
        "sample_msgs = [\n",
        "    \"Free entry in 2 a wkly comp to win FA Cup final!\",\n",
        "    \"England v Macedonia - don't miss the goals/team news.\",\n",
        "    \"Congratulations! You've won a $1000 Walmart gift card.\",\n",
        "    \"Are we meeting for lunch tomorrow?\"\n",
        "]\n",
        "\n",
        "for m in sample_msgs:\n",
        "    print(f\"'{m}' -> {classify_message(m)}\")\n"
      ],
      "metadata": {
        "colab": {
          "base_uri": "https://localhost:8080/",
          "height": 879
        },
        "id": "GmKpjjDs0byn",
        "outputId": "fc907ec2-f912-472f-ac1d-8a309027e925"
      },
      "execution_count": 4,
      "outputs": [
        {
          "output_type": "stream",
          "name": "stdout",
          "text": [
            "Data loaded: (5572, 2)\n",
            "     label                                               text\n",
            "2103   ham                           Audrie lousy autocorrect\n",
            "221    ham                          Ok no prob. Take ur time.\n",
            "1086   ham  FR'NDSHIP is like a needle of a clock. Though ...\n",
            "\n",
            "--- Evaluation ---\n",
            "Accuracy: 0.963\n",
            "Confusion Matrix:\n",
            " [[967   1]\n",
            " [ 40 107]]\n",
            "Classification Report:\n",
            "               precision    recall  f1-score   support\n",
            "\n",
            "         ham       0.96      1.00      0.98       968\n",
            "        spam       0.99      0.73      0.84       147\n",
            "\n",
            "    accuracy                           0.96      1115\n",
            "   macro avg       0.98      0.86      0.91      1115\n",
            "weighted avg       0.96      0.96      0.96      1115\n",
            "\n"
          ]
        },
        {
          "output_type": "display_data",
          "data": {
            "text/plain": [
              "<Figure size 600x400 with 2 Axes>"
            ],
            "image/png": "[encoded data removed]"
          },
          "metadata": {}
        },
        {
          "output_type": "stream",
          "name": "stdout",
          "text": [
            "\n",
            "--- Sample Predictions ---\n",
            "'Free entry in 2 a wkly comp to win FA Cup final!' -> spam\n",
            "'England v Macedonia - don't miss the goals/team news.' -> ham\n",
            "'Congratulations! You've won a $1000 Walmart gift card.' -> ham\n",
            "'Are we meeting for lunch tomorrow?' -> ham\n"
          ]
        }
      ]
    },
    {
      "cell_type": "code",
      "source": [],
      "metadata": {
        "id": "zP-UJHoY1oHI"
      },
      "execution_count": 4,
      "outputs": []
    }
  ]
}